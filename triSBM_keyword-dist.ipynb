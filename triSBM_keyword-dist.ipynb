{
 "cells": [
  {
   "cell_type": "code",
   "execution_count": null,
   "id": "executive-agreement",
   "metadata": {},
   "outputs": [],
   "source": [
    "import pandas as pd\n",
    "import numpy as np\n",
    "import os\n",
    "import tensorflow as tf"
   ]
  },
  {
   "cell_type": "code",
   "execution_count": null,
   "id": "bound-craps",
   "metadata": {},
   "outputs": [],
   "source": [
    "working_dir = \"datasets/tcga/BRCA/mirna_allsamples\"\n",
    "alg = \"trisbm\"\n",
    "L = 1\n",
    "os.chdir(working_dir)"
   ]
  },
  {
   "cell_type": "code",
   "execution_count": null,
   "id": "eleven-damage",
   "metadata": {},
   "outputs": [],
   "source": [
    "df_Pgt = pd.read_csv(f\"{alg}/{alg}_level_{L}_word-dist.csv\", index_col=0)\n",
    "df_Pgt.head(2)"
   ]
  },
  {
   "cell_type": "code",
   "execution_count": null,
   "id": "desperate-demographic",
   "metadata": {},
   "outputs": [],
   "source": [
    "df_Pts = pd.read_csv(f\"{alg}/{alg}_level_{L}_topic-dist.csv\", index_col=1).drop(\"i_doc\", 1)\n",
    "df_Pts.head(2)"
   ]
  },
  {
   "cell_type": "code",
   "execution_count": null,
   "id": "broke-utility",
   "metadata": {},
   "outputs": [],
   "source": [
    "df_Pmk = pd.read_csv(f\"{alg}/{alg}_level_{L}_keyword-dist.csv\", index_col=0)\n",
    "df_Pmk.head(2)"
   ]
  },
  {
   "cell_type": "code",
   "execution_count": null,
   "id": "destroyed-artist",
   "metadata": {},
   "outputs": [],
   "source": [
    "df = pd.read_csv(f\"mainTable_all.csv\", index_col=0)\n",
    "df = df[df.index.isin(np.concatenate([df_Pmk.index, df_Pgt.index]))]\n",
    "df = df.reindex(columns=df_Pts.index)\n",
    "df = df.applymap(lambda fpkm: np.log2(fpkm+1))\n",
    "print(df.shape)\n",
    "df.head(2)"
   ]
  },
  {
   "cell_type": "code",
   "execution_count": null,
   "id": "fallen-windsor",
   "metadata": {},
   "outputs": [],
   "source": [
    "es = df.sum(0)\n",
    "emirna = df[df.index.isin(filter(lambda g: \"ENSG\" not in g, df.index))].sum(1)"
   ]
  },
  {
   "cell_type": "code",
   "execution_count": null,
   "id": "printable-train",
   "metadata": {},
   "outputs": [],
   "source": [
    "df_Psm = pd.read_csv(f\"{alg}/{alg}_level_{L}_metadatum-dist.csv\", index_col=1).drop(\"i_doc\", 1)\n",
    "df_Psm = pd.DataFrame(data=df_Psm.values*np.repeat(es.values,df_Psm.shape[1]).reshape(df_Psm.shape),\n",
    "                           index=df_Psm.index,\n",
    "                           columns=df_Psm.columns\n",
    "                          )\n",
    "df_Psm = df_Psm.divide(df_Psm.sum(0),1)\n",
    "df_Psm.head(2)"
   ]
  },
  {
   "cell_type": "code",
   "execution_count": null,
   "id": "checked-benjamin",
   "metadata": {},
   "outputs": [],
   "source": [
    "df_Pmk.head(2)"
   ]
  },
  {
   "cell_type": "code",
   "execution_count": null,
   "id": "sticky-ministry",
   "metadata": {},
   "outputs": [],
   "source": [
    "df_Pmk = pd.read_csv(f\"{alg}/{alg}_level_{L}_keyword-dist.csv\", index_col=0)\n",
    "df_Pmk = pd.DataFrame(data=df_Pmk.values*np.repeat(emirna.values, df_Pmk.shape[1]).reshape(df_Pmk.shape),\n",
    "                           index=df_Pmk.index,\n",
    "                           columns=df_Pmk.columns\n",
    "                          )\n",
    "df_Pmk = df_Pmk.divide(df_Pmk.sum(1),0)\n",
    "df_Pmk.head(2)"
   ]
  },
  {
   "cell_type": "code",
   "execution_count": null,
   "id": "known-london",
   "metadata": {},
   "outputs": [],
   "source": [
    "Pgs = np.matmul(df_Pgt.values, df_Pts.values.T)\n",
    "Pgm = np.matmul(Pgs, df_Psm.fillna(0).values)\n",
    "Pgk = np.matmul(Pgm / np.sum(Pgm,0), df_Pmk.divide(df_Pmk.sum(1),0).values.T)\n",
    "df_Pgm = pd.DataFrame(data=Pgm, index=df_Pgt.index, columns=df_Psm.columns)\n",
    "df_Pgk = pd.DataFrame(index = df_Pgt.index, columns = df_Pmk.index, data = Pgk/np.sum(Pgk,0)[np.newaxis,:])"
   ]
  },
  {
   "cell_type": "code",
   "execution_count": null,
   "id": "japanese-damages",
   "metadata": {},
   "outputs": [],
   "source": [
    "df_Pgk.head(2)"
   ]
  },
  {
   "cell_type": "code",
   "execution_count": null,
   "id": "retired-november",
   "metadata": {},
   "outputs": [],
   "source": [
    "import seaborn as sns\n",
    "cm = sns.clustermap(df_Pgk.subtract(df_Pgm.mean(1),0).divide(df_Pgm.mean(1),0).dropna(how=\"all\", axis=1),\n",
    "              )"
   ]
  },
  {
   "cell_type": "code",
   "execution_count": null,
   "id": "tested-pierce",
   "metadata": {},
   "outputs": [],
   "source": [
    "for g in df_Pgk.loc[df_Pgk.index[cm.dendrogram_col.reordered_ind[:30]],:].index:\n",
    "    print(g)"
   ]
  },
  {
   "cell_type": "code",
   "execution_count": null,
   "id": "electric-geology",
   "metadata": {},
   "outputs": [],
   "source": [
    "for mirna in df_Pgk.loc[np.random.choice(df_Pgk.index),:].sort_values(ascending=False)[:20].items():\n",
    "    print(mirna[0])"
   ]
  },
  {
   "cell_type": "markdown",
   "id": "brazilian-scheduling",
   "metadata": {},
   "source": [
    "## Distinctivness"
   ]
  },
  {
   "cell_type": "code",
   "execution_count": null,
   "id": "temporal-jones",
   "metadata": {},
   "outputs": [],
   "source": [
    "@tf.function\n",
    "def kullbach_liebler(theta_k, theta_l):\n",
    "    # dey-visualizing paper\n",
    "    return tf.subtract(tf.add(tf.math.multiply(theta_k, tf.math.log(tf.math.divide(theta_k, theta_l))), theta_l),\n",
    "                       theta_k)\n",
    "\n",
    "@tf.function\n",
    "def distinctivness(theta_k):\n",
    "    return tf.reduce_min(tf.sort(theta_k)[:, 1:], axis=1)\n",
    "\n",
    "@tf.function\n",
    "def get_distinctivness(data):\n",
    "    KL_tensor = tf.map_fn(fn=lambda k: tf.map_fn(fn=lambda l: kullbach_liebler(k, l), elems=data), elems=data, parallel_iterations=3)\n",
    "    KL_tensor_min = tf.map_fn(distinctivness, tf.transpose(KL_tensor, perm=[2, 0, 1]), parallel_iterations=3)\n",
    "    return KL_tensor_min"
   ]
  },
  {
   "cell_type": "code",
   "execution_count": null,
   "id": "weighted-tractor",
   "metadata": {},
   "outputs": [],
   "source": [
    "out = get_distinctivness(tf.convert_to_tensor(df_Pgm.values)).numpy()\n",
    "out.shape"
   ]
  },
  {
   "cell_type": "code",
   "execution_count": null,
   "id": "engaged-cisco",
   "metadata": {},
   "outputs": [],
   "source": [
    "df_D = pd.DataFrame(data=out, columns=df_Pgm.index, index=df_Pgm.columns)\n",
    "df_D.head(2)"
   ]
  },
  {
   "cell_type": "code",
   "execution_count": null,
   "id": "apparent-encoding",
   "metadata": {},
   "outputs": [],
   "source": [
    "for g in df_D.transpose()[\"Metadatum 4\"].sort_values(ascending=False).items():\n",
    "    print(g[0])"
   ]
  },
  {
   "cell_type": "code",
   "execution_count": null,
   "id": "serious-screening",
   "metadata": {},
   "outputs": [],
   "source": []
  }
 ],
 "metadata": {
  "kernelspec": {
   "display_name": "Python 3",
   "language": "python",
   "name": "python3"
  },
  "language_info": {
   "codemirror_mode": {
    "name": "ipython",
    "version": 3
   },
   "file_extension": ".py",
   "mimetype": "text/x-python",
   "name": "python",
   "nbconvert_exporter": "python",
   "pygments_lexer": "ipython3",
   "version": "3.8.6"
  }
 },
 "nbformat": 4,
 "nbformat_minor": 5
}
