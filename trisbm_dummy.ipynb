{
 "cells": [
  {
   "cell_type": "code",
   "execution_count": null,
   "id": "e9295f3f",
   "metadata": {},
   "outputs": [],
   "source": [
    "import graph_tool.all as gt\n",
    "import random\n",
    "import numpy as np\n",
    "import cloudpickle as pickle"
   ]
  },
  {
   "cell_type": "code",
   "execution_count": null,
   "id": "b29f8e77",
   "metadata": {},
   "outputs": [],
   "source": [
    "%load_ext autoreload\n",
    "%autoreload 2\n",
    "from trisbm import trisbm"
   ]
  },
  {
   "cell_type": "code",
   "execution_count": null,
   "id": "f436ce5f",
   "metadata": {},
   "outputs": [],
   "source": [
    "model = trisbm()\n",
    "model.load_graph(\"mirna/graph.xml.gz\")"
   ]
  },
  {
   "cell_type": "code",
   "execution_count": null,
   "id": "b982299e",
   "metadata": {},
   "outputs": [],
   "source": [
    "with open(\"trisbm/model.pkl\", \"rb\") as file:\n",
    "    model = pickle.load(file)"
   ]
  },
  {
   "cell_type": "code",
   "execution_count": null,
   "id": "cd81a1dd",
   "metadata": {},
   "outputs": [],
   "source": [
    "import pandas as pd\n",
    "df = pd.DataFrame(index = [\"ENSG1\",\"ENSG2\",\"ENSG3\",\"ENSG4\",\"ENSG5\", \"mi1\",\"mi2\",\"mi3\", \"mi4\",\"mi5\",\"mi6\"], \n",
    "                  columns=[\"doc%d\"%i for i in range(50)], \n",
    "                  data = np.random.randint(0, 5, size=11*50).reshape((11,50)))\n",
    "for doc in df.columns[:10]:\n",
    "    df[doc] = np.concatenate([np.random.randint(0, 5, 3),np.random.randint(50, 100, 2), np.random.randint(50, 200, 3), np.random.randint(50, 200, 3)])\n",
    "\n",
    "for doc in df.columns[10:20]:\n",
    "    df[doc] = np.concatenate([np.random.randint(50, 100, 3),np.random.randint(0, 1, 2), np.random.randint(50, 200, 3), np.random.randint(1, 2, 3)])\n",
    "\n",
    "for doc in df.columns[20:]:\n",
    "    df[doc] = np.concatenate([np.random.randint(50, 100, 3),np.random.randint(50, 100, 2), np.random.randint(1, 2, 3), np.random.randint(50, 200, 3)])\n",
    "\n",
    "\n",
    "df"
   ]
  },
  {
   "cell_type": "code",
   "execution_count": null,
   "id": "ad7aafc9",
   "metadata": {},
   "outputs": [],
   "source": [
    "model = trisbm()\n",
    "model.make_graph(df, get_kind=lambda w: 1 if \"ENSG\" in w else 2)\n",
    "g=model.g\n",
    "print(g)\n",
    "print(g.vp[\"name\"].a)\n",
    "model.fit(verbose=False)\n",
    "model.draw(output=\"network.png\")"
   ]
  },
  {
   "cell_type": "code",
   "execution_count": null,
   "id": "78865eac",
   "metadata": {},
   "outputs": [],
   "source": [
    "model.save_graph(\"graph.xml.gz\")"
   ]
  },
  {
   "cell_type": "code",
   "execution_count": null,
   "id": "4a2caae4",
   "metadata": {},
   "outputs": [],
   "source": [
    "#model.draw(hedge_pen_width=8, hvertex_size=25, output=\"network.pdf\")"
   ]
  },
  {
   "cell_type": "code",
   "execution_count": null,
   "id": "63bdf1f4",
   "metadata": {},
   "outputs": [],
   "source": [
    "model.metadata(n=-1)"
   ]
  },
  {
   "cell_type": "code",
   "execution_count": null,
   "id": "0f664e34",
   "metadata": {},
   "outputs": [],
   "source": [
    "!rm -f *.csv *.tsv\n",
    "model.save_data()"
   ]
  },
  {
   "cell_type": "code",
   "execution_count": null,
   "id": "3170c794",
   "metadata": {},
   "outputs": [],
   "source": [
    "model.metadatumdist(0)"
   ]
  },
  {
   "cell_type": "code",
   "execution_count": null,
   "id": "1489a85c",
   "metadata": {},
   "outputs": [],
   "source": [
    "np.unique(g.vp[\"kind\"].a)"
   ]
  },
  {
   "cell_type": "code",
   "execution_count": null,
   "id": "a513ebde",
   "metadata": {},
   "outputs": [],
   "source": [
    "len(np.array(list(g.vertices()))[g.vp[\"kind\"].a==0])"
   ]
  },
  {
   "cell_type": "code",
   "execution_count": null,
   "id": "ca037623",
   "metadata": {},
   "outputs": [],
   "source": [
    "len(np.array(list(g.vertices()))[g.vp[\"kind\"].a==1])"
   ]
  },
  {
   "cell_type": "code",
   "execution_count": null,
   "id": "6b279ec8",
   "metadata": {},
   "outputs": [],
   "source": [
    "len(np.array(list(g.vertices()))[g.vp[\"kind\"].a==2])"
   ]
  },
  {
   "cell_type": "code",
   "execution_count": null,
   "id": "24bf58c5",
   "metadata": {},
   "outputs": [],
   "source": [
    "model._get_shape()"
   ]
  },
  {
   "cell_type": "code",
   "execution_count": null,
   "id": "19fd6107",
   "metadata": {},
   "outputs": [],
   "source": []
  }
 ],
 "metadata": {
  "kernelspec": {
   "display_name": "Python 3",
   "language": "python",
   "name": "python3"
  },
  "language_info": {
   "codemirror_mode": {
    "name": "ipython",
    "version": 3
   },
   "file_extension": ".py",
   "mimetype": "text/x-python",
   "name": "python",
   "nbconvert_exporter": "python",
   "pygments_lexer": "ipython3",
   "version": "3.8.8"
  }
 },
 "nbformat": 4,
 "nbformat_minor": 5
}
