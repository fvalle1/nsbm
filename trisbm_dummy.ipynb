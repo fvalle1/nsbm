{
 "cells": [
  {
   "cell_type": "code",
   "execution_count": null,
   "id": "located-aurora",
   "metadata": {},
   "outputs": [],
   "source": [
    "import graph_tool.all as gt\n",
    "import random\n",
    "import numpy as np\n",
    "import cloudpickle as pickle"
   ]
  },
  {
   "cell_type": "code",
   "execution_count": null,
   "id": "corresponding-mandate",
   "metadata": {},
   "outputs": [],
   "source": [
    "%load_ext autoreload\n",
    "%autoreload 2\n",
    "from trisbm import trisbm"
   ]
  },
  {
   "cell_type": "code",
   "execution_count": null,
   "id": "greatest-melbourne",
   "metadata": {},
   "outputs": [],
   "source": [
    "model = trisbm()\n",
    "model.load_graph(\"mirna/graph.xml.gz\")"
   ]
  },
  {
   "cell_type": "code",
   "execution_count": null,
   "id": "particular-junior",
   "metadata": {},
   "outputs": [],
   "source": [
    "with open(\"trisbm/model.pkl\", \"rb\") as file:\n",
    "    model = pickle.load(file)"
   ]
  },
  {
   "cell_type": "code",
   "execution_count": null,
   "id": "junior-addiction",
   "metadata": {},
   "outputs": [],
   "source": [
    "import pandas as pd\n",
    "df = pd.DataFrame(index = [\"ENSG1\",\"ENSG2\",\"ENSG3\",\"ENSG4\",\"ENSG5\", \"mi1\",\"mi2\",\"mi3\", \"mi4\",\"mi5\",\"mi6\"], \n",
    "                  columns=[\"doc%d\"%i for i in range(50)], \n",
    "                  data = np.random.randint(0, 5, size=11*50).reshape((11,50)))\n",
    "for doc in df.columns[:10]:\n",
    "    df[doc] = np.concatenate([np.random.randint(0, 5, 3),np.random.randint(50, 100, 2), np.random.randint(50, 200, 3), np.random.randint(50, 200, 3)])\n",
    "\n",
    "for doc in df.columns[10:20]:\n",
    "    df[doc] = np.concatenate([np.random.randint(50, 100, 3),np.random.randint(0, 1, 2), np.random.randint(50, 200, 3), np.random.randint(1, 2, 3)])\n",
    "\n",
    "for doc in df.columns[20:]:\n",
    "    df[doc] = np.concatenate([np.random.randint(50, 100, 3),np.random.randint(50, 100, 2), np.random.randint(1, 2, 3), np.random.randint(50, 200, 3)])\n",
    "\n",
    "\n",
    "df"
   ]
  },
  {
   "cell_type": "code",
   "execution_count": null,
   "id": "reverse-strand",
   "metadata": {},
   "outputs": [],
   "source": [
    "model = trisbm()\n",
    "model.make_graph(df, get_kind=lambda w: 1 if \"ENSG\" in w else 2)\n",
    "g=model.g\n",
    "print(g)\n",
    "print(g.vp[\"name\"].a)\n",
    "model.fit(verbose=False)\n",
    "model.draw(output=\"network.png\")"
   ]
  },
  {
   "cell_type": "code",
   "execution_count": null,
   "id": "precious-impossible",
   "metadata": {},
   "outputs": [],
   "source": [
    "model.save_graph(\"graph.xml.gz\")"
   ]
  },
  {
   "cell_type": "code",
   "execution_count": null,
   "id": "sunrise-converter",
   "metadata": {},
   "outputs": [],
   "source": [
    "#model.draw(hedge_pen_width=8, hvertex_size=25, output=\"network.pdf\")"
   ]
  },
  {
   "cell_type": "code",
   "execution_count": null,
   "id": "logical-poetry",
   "metadata": {},
   "outputs": [],
   "source": [
    "model.metadata(n=-1)"
   ]
  },
  {
   "cell_type": "code",
   "execution_count": null,
   "id": "greater-chest",
   "metadata": {},
   "outputs": [],
   "source": [
    "!rm -f *.csv *.tsv\n",
    "model.save_data()"
   ]
  },
  {
   "cell_type": "code",
   "execution_count": null,
   "id": "authentic-paint",
   "metadata": {},
   "outputs": [],
   "source": [
    "model.metadatumdist(0)"
   ]
  },
  {
   "cell_type": "code",
   "execution_count": null,
   "id": "controversial-forwarding",
   "metadata": {},
   "outputs": [],
   "source": [
    "np.unique(g.vp[\"kind\"].a)"
   ]
  },
  {
   "cell_type": "code",
   "execution_count": null,
   "id": "short-light",
   "metadata": {},
   "outputs": [],
   "source": [
    "len(np.array(list(g.vertices()))[g.vp[\"kind\"].a==0])"
   ]
  },
  {
   "cell_type": "code",
   "execution_count": null,
   "id": "integrated-strip",
   "metadata": {},
   "outputs": [],
   "source": [
    "len(np.array(list(g.vertices()))[g.vp[\"kind\"].a==1])"
   ]
  },
  {
   "cell_type": "code",
   "execution_count": null,
   "id": "found-draft",
   "metadata": {},
   "outputs": [],
   "source": [
    "len(np.array(list(g.vertices()))[g.vp[\"kind\"].a==2])"
   ]
  },
  {
   "cell_type": "code",
   "execution_count": null,
   "id": "oriented-montgomery",
   "metadata": {},
   "outputs": [],
   "source": [
    "model._get_shape()"
   ]
  },
  {
   "cell_type": "code",
   "execution_count": null,
   "id": "ecological-feature",
   "metadata": {},
   "outputs": [],
   "source": []
  }
 ],
 "metadata": {
  "kernelspec": {
   "display_name": "Python 3",
   "language": "python",
   "name": "python3"
  },
  "language_info": {
   "codemirror_mode": {
    "name": "ipython",
    "version": 3
   },
   "file_extension": ".py",
   "mimetype": "text/x-python",
   "name": "python",
   "nbconvert_exporter": "python",
   "pygments_lexer": "ipython3",
   "version": "3.8.8"
  }
 },
 "nbformat": 4,
 "nbformat_minor": 5
}
