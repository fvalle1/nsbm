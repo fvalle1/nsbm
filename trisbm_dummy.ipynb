{
 "cells": [
  {
   "cell_type": "code",
   "execution_count": null,
   "id": "c587bdbc",
   "metadata": {},
   "outputs": [],
   "source": [
    "import graph_tool.all as gt\n",
    "import random\n",
    "import numpy as np\n",
    "import cloudpickle as pickle"
   ]
  },
  {
   "cell_type": "code",
   "execution_count": null,
   "id": "0f8fb11c",
   "metadata": {},
   "outputs": [],
   "source": [
    "%load_ext autoreload\n",
    "%autoreload 2\n",
    "from trisbm import trisbm"
   ]
  },
  {
   "cell_type": "code",
   "execution_count": null,
   "id": "acc8fe31",
   "metadata": {},
   "outputs": [],
   "source": [
    "model = trisbm()"
   ]
  },
  {
   "cell_type": "code",
   "execution_count": null,
   "id": "2e5fa856",
   "metadata": {},
   "outputs": [],
   "source": [
    "with open(\"trisbm/model.pkl\", \"rb\") as file:\n",
    "    model = pickle.load(file)"
   ]
  },
  {
   "cell_type": "code",
   "execution_count": null,
   "id": "4bd0a199",
   "metadata": {},
   "outputs": [],
   "source": [
    "import pandas as pd\n",
    "df = pd.DataFrame(index = [\"ENSG1\",\"ENSG2\",\"ENSG3\",\"ENSG4\",\"ENSG5\", \"mi1\",\"mi2\",\"mi3\", \"mi4\",\"mi5\",\"mi6\"], \n",
    "                  columns=[\"doc%d\"%i for i in range(50)], \n",
    "                  data = np.random.randint(0, 5, size=11*50).reshape((11,50)))\n",
    "for doc in df.columns[:10]:\n",
    "    df[doc] = np.concatenate([np.random.randint(0, 5, 3),np.random.randint(50, 100, 2), np.random.randint(50, 200, 3), np.random.randint(50, 200, 3)])\n",
    "\n",
    "for doc in df.columns[10:20]:\n",
    "    df[doc] = np.concatenate([np.random.randint(50, 100, 3),np.random.randint(0, 1, 2), np.random.randint(50, 200, 3), np.random.randint(1, 2, 3)])\n",
    "\n",
    "for doc in df.columns[20:]:\n",
    "    df[doc] = np.concatenate([np.random.randint(50, 100, 3),np.random.randint(50, 100, 2), np.random.randint(1, 2, 3), np.random.randint(50, 200, 3)])\n",
    "\n",
    "\n",
    "df"
   ]
  },
  {
   "cell_type": "code",
   "execution_count": null,
   "id": "76ea383d",
   "metadata": {},
   "outputs": [],
   "source": [
    "model = trisbm()\n",
    "model.make_graph(df, get_kind=lambda w: 1 if \"ENSG\" in w else 2)\n",
    "g=model.g\n",
    "print(g)\n",
    "print(g.vp[\"name\"].a)\n",
    "model.fit(verbose=False)\n",
    "model.draw(output=\"network.png\")"
   ]
  },
  {
   "cell_type": "code",
   "execution_count": null,
   "id": "504e668d",
   "metadata": {},
   "outputs": [],
   "source": [
    "model.save_graph(\"graph.xml.gz\")"
   ]
  },
  {
   "cell_type": "code",
   "execution_count": null,
   "id": "1723ca4a",
   "metadata": {},
   "outputs": [],
   "source": [
    "colmap = model.g.vertex_properties[\"color\"] = model.g.new_vertex_property(\"vector<double>\")\n",
    "for v in model.g.vertices():\n",
    "    k = model.g.vertex_properties['kind'][v]\n",
    "    if k < 1:\n",
    "        color = np.array([39,35,173])/255.\n",
    "    elif k < 2:\n",
    "        color = np.array([172,28,39])/255.\n",
    "    elif k < 3:\n",
    "        color = np.array([247,146,0])/255.\n",
    "    colmap[v] = color"
   ]
  },
  {
   "cell_type": "code",
   "execution_count": null,
   "id": "3a7c6654",
   "metadata": {},
   "outputs": [],
   "source": [
    "gt.draw_hierarchy(model.state,\n",
    "                 hedge_pen_width=8, \n",
    "                 hvertex_size=25, \n",
    "                 vertex_color=colmap,\n",
    "                 vertex_fill_color=colmap,\n",
    "                  output=\"network.png\"\n",
    "                 )"
   ]
  },
  {
   "cell_type": "code",
   "execution_count": null,
   "id": "a10e6ece",
   "metadata": {},
   "outputs": [],
   "source": [
    "model.draw(\n",
    "    hedge_pen_width=8, \n",
    "    hvertex_size=25, \n",
    "    #output=\"network.pdf\"\n",
    ")"
   ]
  },
  {
   "cell_type": "code",
   "execution_count": null,
   "id": "762a5a8e",
   "metadata": {},
   "outputs": [],
   "source": [
    "model.metadata(n=-1)"
   ]
  },
  {
   "cell_type": "code",
   "execution_count": null,
   "id": "6d32d754",
   "metadata": {},
   "outputs": [],
   "source": [
    "!rm -f *.csv *.tsv\n",
    "model.save_data()"
   ]
  },
  {
   "cell_type": "code",
   "execution_count": null,
   "id": "0a0868b0",
   "metadata": {},
   "outputs": [],
   "source": [
    "model.metadatumdist(0)"
   ]
  },
  {
   "cell_type": "code",
   "execution_count": null,
   "id": "e070b50a",
   "metadata": {},
   "outputs": [],
   "source": [
    "np.unique(g.vp[\"kind\"].a)"
   ]
  },
  {
   "cell_type": "code",
   "execution_count": null,
   "id": "94fff640",
   "metadata": {},
   "outputs": [],
   "source": [
    "len(np.array(list(g.vertices()))[g.vp[\"kind\"].a==0])"
   ]
  },
  {
   "cell_type": "code",
   "execution_count": null,
   "id": "deff18a5",
   "metadata": {},
   "outputs": [],
   "source": [
    "len(np.array(list(g.vertices()))[g.vp[\"kind\"].a==1])"
   ]
  },
  {
   "cell_type": "code",
   "execution_count": null,
   "id": "a77ffce2",
   "metadata": {},
   "outputs": [],
   "source": [
    "len(np.array(list(g.vertices()))[g.vp[\"kind\"].a==2])"
   ]
  },
  {
   "cell_type": "code",
   "execution_count": null,
   "id": "af397d88",
   "metadata": {},
   "outputs": [],
   "source": [
    "model._get_shape()"
   ]
  },
  {
   "cell_type": "code",
   "execution_count": null,
   "id": "75c9d973",
   "metadata": {},
   "outputs": [],
   "source": []
  }
 ],
 "metadata": {
  "kernelspec": {
   "display_name": "Python 3",
   "language": "python",
   "name": "python3"
  },
  "language_info": {
   "codemirror_mode": {
    "name": "ipython",
    "version": 3
   },
   "file_extension": ".py",
   "mimetype": "text/x-python",
   "name": "python",
   "nbconvert_exporter": "python",
   "pygments_lexer": "ipython3",
   "version": "3.8.8"
  }
 },
 "nbformat": 4,
 "nbformat_minor": 5
}
