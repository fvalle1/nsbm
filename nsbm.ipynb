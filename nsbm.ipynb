{
 "cells": [
  {
   "cell_type": "code",
   "execution_count": 1,
   "id": "7cd2a20b",
   "metadata": {},
   "outputs": [
    {
     "name": "stdout",
     "output_type": "stream",
     "text": [
      "Author: Filippo_Valle\n",
      "\n",
      "Python implementation: CPython\n",
      "Python version       : 3.8.8\n",
      "IPython version      : 7.22.0\n",
      "\n",
      "pandas: 1.2.3\n",
      "numpy : 1.19.0\n",
      "trisbm: 0.3.1\n",
      "\n",
      "Compiler    : GCC 9.3.0\n",
      "OS          : Linux\n",
      "Release     : 5.8.0-49-generic\n",
      "Machine     : x86_64\n",
      "Processor   : x86_64\n",
      "CPU cores   : 12\n",
      "Architecture: 64bit\n",
      "\n",
      "Git repo: git@github.com:fvalle1/trisbm\n",
      "\n",
      "Git branch: nsbm\n",
      "\n"
     ]
    }
   ],
   "source": [
    "%load_ext watermark\n",
    "%watermark -a Filippo_Valle -p pandas,numpy,trisbm -r -b -iv -v -m"
   ]
  },
  {
   "cell_type": "code",
   "execution_count": null,
   "id": "b5a788c6",
   "metadata": {},
   "outputs": [],
   "source": [
    "%load_ext autoreload\n",
    "%autoreload 2\n",
    "import sys\n",
    "import pandas as pd\n",
    "import numpy as np\n",
    "sys.path.append(\"../trisbm/\")\n",
    "from trisbm import trisbm"
   ]
  },
  {
   "cell_type": "code",
   "execution_count": null,
   "id": "a031deb8",
   "metadata": {},
   "outputs": [],
   "source": [
    "df = pd.DataFrame(\n",
    "index = [\"w{}\".format(w) for w in range(1000)],\n",
    "columns = [\"doc{}\".format(w) for w in range(250)],\n",
    "data = np.random.randint(1, 100, 250000).reshape((1000, 250)))\n",
    "\n",
    "df_key_list = [\n",
    "    pd.DataFrame(\n",
    "index = [\"w{}\".format(w) for w in range(100+ik)],\n",
    "columns = [\"doc{}\".format(w) for w in range(250)],\n",
    "data = np.random.randint(1, 5+ik, (100+ik)*250).reshape((100+ik, 250)))\n",
    "    \n",
    "    for ik in range(3)\n",
    "]"
   ]
  },
  {
   "cell_type": "code",
   "execution_count": null,
   "id": "9f0f7ff6",
   "metadata": {},
   "outputs": [],
   "source": [
    "df.head()"
   ]
  },
  {
   "cell_type": "code",
   "execution_count": null,
   "id": "baf4a749",
   "metadata": {},
   "outputs": [],
   "source": [
    "df_key_list[0].head()"
   ]
  },
  {
   "cell_type": "code",
   "execution_count": null,
   "id": "0439b810",
   "metadata": {},
   "outputs": [],
   "source": [
    "model = trisbm()"
   ]
  },
  {
   "cell_type": "code",
   "execution_count": null,
   "id": "1aa40dc6",
   "metadata": {},
   "outputs": [],
   "source": [
    "model.make_graph_multiple_df(df, df_key_list)"
   ]
  },
  {
   "cell_type": "code",
   "execution_count": null,
   "id": "bb6d7459",
   "metadata": {},
   "outputs": [],
   "source": [
    "model.g.vp[\"kind\"].a"
   ]
  },
  {
   "cell_type": "code",
   "execution_count": null,
   "id": "70f1ac61",
   "metadata": {},
   "outputs": [],
   "source": [
    "model.nbranches"
   ]
  },
  {
   "cell_type": "code",
   "execution_count": null,
   "id": "8336a56c",
   "metadata": {},
   "outputs": [],
   "source": [
    "model.fit(n_init=1, B_min=50, verbose=False)"
   ]
  },
  {
   "cell_type": "code",
   "execution_count": null,
   "id": "5a4b92c1",
   "metadata": {},
   "outputs": [],
   "source": [
    "model._get_shape()"
   ]
  },
  {
   "cell_type": "code",
   "execution_count": null,
   "id": "dacf699f",
   "metadata": {},
   "outputs": [],
   "source": [
    "model.g"
   ]
  },
  {
   "cell_type": "code",
   "execution_count": null,
   "id": "ee820054",
   "metadata": {},
   "outputs": [],
   "source": [
    "model.metadata(0,-1,3)"
   ]
  },
  {
   "cell_type": "code",
   "execution_count": null,
   "id": "a044bc38",
   "metadata": {},
   "outputs": [],
   "source": [
    "model.save_data()"
   ]
  },
  {
   "cell_type": "code",
   "execution_count": null,
   "id": "d69dca42",
   "metadata": {},
   "outputs": [],
   "source": [
    "model.print_summary()"
   ]
  },
  {
   "cell_type": "code",
   "execution_count": null,
   "id": "f128d2d5",
   "metadata": {},
   "outputs": [],
   "source": [
    "model.metadata(l=0, n=-1, kind=2).keys()"
   ]
  },
  {
   "cell_type": "code",
   "execution_count": null,
   "id": "b827ec56",
   "metadata": {},
   "outputs": [],
   "source": [
    "import graph_tool.all as gt"
   ]
  },
  {
   "cell_type": "code",
   "execution_count": null,
   "id": "6f3a5027",
   "metadata": {},
   "outputs": [],
   "source": [
    "colmap = model.g.vertex_properties[\"color\"] = model.g.new_vertex_property(\"vector<double>\")\n",
    "for v in model.g.vertices():\n",
    "    k = model.g.vertex_properties['kind'][v]\n",
    "    if k < 1:\n",
    "        color = np.array([137,128,193])/255.\n",
    "    elif k < 2:\n",
    "        color = np.array([130,200,93])/255.\n",
    "    elif k < 3:\n",
    "        color = np.array([210,82,58])/255.\n",
    "    elif k < 4:\n",
    "        color = np.array([196,125,50])/255.\n",
    "    else:\n",
    "        color = np.array([187,129,164])/255.\n",
    "    colmap[v] = color"
   ]
  },
  {
   "cell_type": "code",
   "execution_count": null,
   "id": "30d847ee",
   "metadata": {},
   "outputs": [],
   "source": [
    "gt.draw_hierarchy(model.state,\n",
    "                subsample_edges=3500,\n",
    "                vertex_color=colmap,\n",
    "                vertex_fill_color=colmap,\n",
    "                hedge_pen_width=5,\n",
    "                hvertex_size=15,\n",
    "                edge_pen_width=model.g.ep[\"count\"],\n",
    "                output=\"nsbm.png\"\n",
    "                 )"
   ]
  },
  {
   "cell_type": "code",
   "execution_count": null,
   "id": "2c83f6ed",
   "metadata": {},
   "outputs": [],
   "source": []
  }
 ],
 "metadata": {
  "kernelspec": {
   "display_name": "Python 3",
   "language": "python",
   "name": "python3"
  },
  "language_info": {
   "codemirror_mode": {
    "name": "ipython",
    "version": 3
   },
   "file_extension": ".py",
   "mimetype": "text/x-python",
   "name": "python",
   "nbconvert_exporter": "python",
   "pygments_lexer": "ipython3",
   "version": "3.8.8"
  }
 },
 "nbformat": 4,
 "nbformat_minor": 5
}
