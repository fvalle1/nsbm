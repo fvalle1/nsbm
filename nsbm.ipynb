{
 "cells": [
  {
   "cell_type": "code",
   "execution_count": null,
   "id": "0ac3e7f1",
   "metadata": {},
   "outputs": [],
   "source": [
    "%load_ext autoreload\n",
    "%autoreload 2\n",
    "import sys\n",
    "import pandas as pd\n",
    "import numpy as np\n",
    "sys.path.append(\"../trisbm/\")\n",
    "from trisbm import trisbm"
   ]
  },
  {
   "cell_type": "code",
   "execution_count": null,
   "id": "975ee6fc",
   "metadata": {},
   "outputs": [],
   "source": [
    "df = pd.DataFrame(\n",
    "index = [\"w{}\".format(w) for w in range(1000)],\n",
    "columns = [\"doc{}\".format(w) for w in range(250)],\n",
    "data = np.random.randint(1, 100, 250000).reshape((1000, 250)))\n",
    "\n",
    "df_key_list = [\n",
    "    pd.DataFrame(\n",
    "index = [\"w{}\".format(w) for w in range(100+ik)],\n",
    "columns = [\"doc{}\".format(w) for w in range(250)],\n",
    "data = np.random.randint(1, 5+ik, (100+ik)*250).reshape((100+ik, 250)))\n",
    "    \n",
    "    for ik in range(3)\n",
    "]"
   ]
  },
  {
   "cell_type": "code",
   "execution_count": null,
   "id": "d1e7e2f7",
   "metadata": {},
   "outputs": [],
   "source": [
    "df.head()"
   ]
  },
  {
   "cell_type": "code",
   "execution_count": null,
   "id": "80af6680",
   "metadata": {},
   "outputs": [],
   "source": [
    "df_key_list[0].head()"
   ]
  },
  {
   "cell_type": "code",
   "execution_count": null,
   "id": "1235bc05",
   "metadata": {},
   "outputs": [],
   "source": [
    "model = trisbm()"
   ]
  },
  {
   "cell_type": "code",
   "execution_count": null,
   "id": "0fdc526b",
   "metadata": {},
   "outputs": [],
   "source": [
    "model.make_graph_multiple_df(df, df_key_list)"
   ]
  },
  {
   "cell_type": "code",
   "execution_count": null,
   "id": "7eab81f5",
   "metadata": {},
   "outputs": [],
   "source": [
    "model.g.vp[\"kind\"].a"
   ]
  },
  {
   "cell_type": "code",
   "execution_count": null,
   "id": "cb2d2e97",
   "metadata": {},
   "outputs": [],
   "source": [
    "model.nbranches"
   ]
  },
  {
   "cell_type": "code",
   "execution_count": null,
   "id": "151f43a1",
   "metadata": {},
   "outputs": [],
   "source": [
    "model.fit(n_init=1, B_min=50, verbose=False)"
   ]
  },
  {
   "cell_type": "code",
   "execution_count": null,
   "id": "eecdd7a3",
   "metadata": {},
   "outputs": [],
   "source": [
    "model._get_shape()"
   ]
  },
  {
   "cell_type": "code",
   "execution_count": null,
   "id": "ed2ccc8d",
   "metadata": {},
   "outputs": [],
   "source": [
    "model.g"
   ]
  },
  {
   "cell_type": "code",
   "execution_count": null,
   "id": "ede37aa3",
   "metadata": {},
   "outputs": [],
   "source": [
    "model.metadata(0,-1,3)"
   ]
  },
  {
   "cell_type": "code",
   "execution_count": null,
   "id": "87c2d7d8",
   "metadata": {},
   "outputs": [],
   "source": [
    "model.save_data()"
   ]
  },
  {
   "cell_type": "code",
   "execution_count": null,
   "id": "8cac0c59",
   "metadata": {},
   "outputs": [],
   "source": [
    "model.print_summary()"
   ]
  },
  {
   "cell_type": "code",
   "execution_count": null,
   "id": "181148cf",
   "metadata": {},
   "outputs": [],
   "source": [
    "model.metadata(l=0, n=-1, kind=2).keys()"
   ]
  },
  {
   "cell_type": "code",
   "execution_count": null,
   "id": "f45d4f73",
   "metadata": {},
   "outputs": [],
   "source": [
    "import graph_tool.all as gt"
   ]
  },
  {
   "cell_type": "code",
   "execution_count": null,
   "id": "5cdb2eb0",
   "metadata": {},
   "outputs": [],
   "source": [
    "colmap = model.g.vertex_properties[\"color\"] = model.g.new_vertex_property(\"vector<double>\")\n",
    "for v in model.g.vertices():\n",
    "    k = model.g.vertex_properties['kind'][v]\n",
    "    if k < 1:\n",
    "        color = np.array([137,128,193])/255.\n",
    "    elif k < 2:\n",
    "        color = np.array([130,200,93])/255.\n",
    "    elif k < 3:\n",
    "        color = np.array([210,82,58])/255.\n",
    "    elif k < 4:\n",
    "        color = np.array([196,125,50])/255.\n",
    "    else:\n",
    "        color = np.array([187,129,164])/255.\n",
    "    colmap[v] = color"
   ]
  },
  {
   "cell_type": "code",
   "execution_count": null,
   "id": "c5b1ddc6",
   "metadata": {},
   "outputs": [],
   "source": [
    "gt.draw_hierarchy(model.state,\n",
    "                subsample_edges=1500,\n",
    "                vertex_color=colmap,\n",
    "                vertex_fill_color=colmap,\n",
    "                hedge_pen_width=5,\n",
    "                hvertex_size=15,\n",
    "                edge_pen_width=model.g.ep[\"count\"],\n",
    "                #output=\"nsbm.pdf\"\n",
    "                 )"
   ]
  },
  {
   "cell_type": "code",
   "execution_count": null,
   "id": "f29368f7",
   "metadata": {},
   "outputs": [],
   "source": []
  }
 ],
 "metadata": {
  "kernelspec": {
   "display_name": "Python 3",
   "language": "python",
   "name": "python3"
  },
  "language_info": {
   "codemirror_mode": {
    "name": "ipython",
    "version": 3
   },
   "file_extension": ".py",
   "mimetype": "text/x-python",
   "name": "python",
   "nbconvert_exporter": "python",
   "pygments_lexer": "ipython3",
   "version": "3.8.8"
  }
 },
 "nbformat": 4,
 "nbformat_minor": 5
}
