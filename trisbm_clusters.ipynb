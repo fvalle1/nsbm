{
 "cells": [
  {
   "cell_type": "code",
   "execution_count": null,
   "id": "ambient-kennedy",
   "metadata": {},
   "outputs": [],
   "source": [
    "import graph_tool.all as gt\n",
    "import random\n",
    "import numpy as np\n",
    "import cloudpickle as pickle"
   ]
  },
  {
   "cell_type": "code",
   "execution_count": null,
   "id": "framed-anime",
   "metadata": {},
   "outputs": [],
   "source": [
    "%load_ext autoreload\n",
    "%autoreload 2\n",
    "from trisbm import trisbm"
   ]
  },
  {
   "cell_type": "code",
   "execution_count": null,
   "id": "higher-africa",
   "metadata": {},
   "outputs": [],
   "source": [
    "model = trisbm()\n",
    "model.load_graph(\"mirna/graph.xml.gz\")"
   ]
  },
  {
   "cell_type": "code",
   "execution_count": null,
   "id": "military-essex",
   "metadata": {},
   "outputs": [],
   "source": [
    "with open(\"trisbm/model.pkl\", \"rb\") as file:\n",
    "    model = pickle.load(file)"
   ]
  },
  {
   "cell_type": "code",
   "execution_count": null,
   "id": "premier-fishing",
   "metadata": {},
   "outputs": [],
   "source": [
    "import pandas as pd\n",
    "df = pd.DataFrame(index = [\"ENSG1\",\"ENSG2\",\"ENSG3\",\"ENSG4\",\"ENSG5\", \"mi1\",\"mi2\",\"mi3\", \"mi4\",\"mi5\",\"mi6\"], \n",
    "                  columns=[\"doc%d\"%i for i in range(50)], \n",
    "                  data = np.random.randint(0, 5, size=11*50).reshape((11,50)))\n",
    "for doc in df.columns[:10]:\n",
    "    df[doc] = np.concatenate([np.random.randint(0, 5, 3),np.random.randint(50, 100, 2), np.random.randint(50, 200, 3), np.random.randint(50, 200, 3)])\n",
    "\n",
    "for doc in df.columns[10:20]:\n",
    "    df[doc] = np.concatenate([np.random.randint(50, 100, 3),np.random.randint(0, 1, 2), np.random.randint(50, 200, 3), np.random.randint(1, 2, 3)])\n",
    "\n",
    "for doc in df.columns[20:]:\n",
    "    df[doc] = np.concatenate([np.random.randint(50, 100, 3),np.random.randint(50, 100, 2), np.random.randint(1, 2, 3), np.random.randint(50, 200, 3)])\n",
    "\n",
    "\n",
    "df"
   ]
  },
  {
   "cell_type": "code",
   "execution_count": null,
   "id": "subsequent-arrival",
   "metadata": {},
   "outputs": [],
   "source": [
    "model = trisbm()\n",
    "model.make_graph(df, get_kind=lambda w: 1 if \"ENSG\" in w else 2)\n",
    "g=model.g\n",
    "print(g)\n",
    "print(g.vp[\"name\"].a)\n",
    "model.fit(verbose=False)\n",
    "model.draw(output=\"network.png\")"
   ]
  },
  {
   "cell_type": "code",
   "execution_count": null,
   "id": "earlier-carol",
   "metadata": {},
   "outputs": [],
   "source": [
    "model.save_graph(\"graph.xml.gz\")"
   ]
  },
  {
   "cell_type": "code",
   "execution_count": null,
   "id": "collective-prompt",
   "metadata": {},
   "outputs": [],
   "source": [
    "#model.draw(hedge_pen_width=8, hvertex_size=25, output=\"network.pdf\")"
   ]
  },
  {
   "cell_type": "code",
   "execution_count": null,
   "id": "automatic-legend",
   "metadata": {},
   "outputs": [],
   "source": [
    "model.metadata(n=-1)"
   ]
  },
  {
   "cell_type": "code",
   "execution_count": null,
   "id": "charitable-shaft",
   "metadata": {},
   "outputs": [],
   "source": [
    "!rm -f *.csv *.tsv\n",
    "model.save_data()"
   ]
  },
  {
   "cell_type": "code",
   "execution_count": null,
   "id": "italic-ebony",
   "metadata": {},
   "outputs": [],
   "source": [
    "model.metadatumdist(0)"
   ]
  },
  {
   "cell_type": "code",
   "execution_count": null,
   "id": "third-dietary",
   "metadata": {},
   "outputs": [],
   "source": [
    "np.unique(g.vp[\"kind\"].a)"
   ]
  },
  {
   "cell_type": "code",
   "execution_count": null,
   "id": "ultimate-brick",
   "metadata": {},
   "outputs": [],
   "source": [
    "len(np.array(list(g.vertices()))[g.vp[\"kind\"].a==0])"
   ]
  },
  {
   "cell_type": "code",
   "execution_count": null,
   "id": "informational-cleveland",
   "metadata": {},
   "outputs": [],
   "source": [
    "len(np.array(list(g.vertices()))[g.vp[\"kind\"].a==1])"
   ]
  },
  {
   "cell_type": "code",
   "execution_count": null,
   "id": "sporting-snake",
   "metadata": {},
   "outputs": [],
   "source": [
    "len(np.array(list(g.vertices()))[g.vp[\"kind\"].a==2])"
   ]
  },
  {
   "cell_type": "code",
   "execution_count": null,
   "id": "supposed-academy",
   "metadata": {},
   "outputs": [],
   "source": [
    "model._get_shape()"
   ]
  },
  {
   "cell_type": "code",
   "execution_count": null,
   "id": "changed-collapse",
   "metadata": {},
   "outputs": [],
   "source": []
  }
 ],
 "metadata": {
  "kernelspec": {
   "display_name": "Python 3",
   "language": "python",
   "name": "python3"
  },
  "language_info": {
   "codemirror_mode": {
    "name": "ipython",
    "version": 3
   },
   "file_extension": ".py",
   "mimetype": "text/x-python",
   "name": "python",
   "nbconvert_exporter": "python",
   "pygments_lexer": "ipython3",
   "version": "3.8.6"
  }
 },
 "nbformat": 4,
 "nbformat_minor": 5
}
