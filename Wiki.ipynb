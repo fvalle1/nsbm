{
 "cells": [
  {
   "cell_type": "code",
   "execution_count": null,
   "id": "concerned-collector",
   "metadata": {},
   "outputs": [],
   "source": [
    "import requests\n",
    "import pandas as pd"
   ]
  },
  {
   "cell_type": "code",
   "execution_count": null,
   "id": "ultimate-group",
   "metadata": {},
   "outputs": [],
   "source": [
    "titles = pd.read_table(\"../hSBM_Topicmodel/titles.txt\", sep=\" \", header=None)[0].values\n",
    "titles[:3]"
   ]
  },
  {
   "cell_type": "code",
   "execution_count": null,
   "id": "purple-metadata",
   "metadata": {},
   "outputs": [],
   "source": [
    "df_files = pd.read_csv(\"../hSBM_Topicmodel/titles.txt\", sep=\" \", index_col=0, names=[\"Topic\"])"
   ]
  },
  {
   "cell_type": "code",
   "execution_count": null,
   "id": "demonstrated-growing",
   "metadata": {},
   "outputs": [],
   "source": [
    "url = \"https://en.wikipedia.org/w/api.php\"\n",
    "\n",
    "def get_categories(title):\n",
    "    params = {\n",
    "        \"action\": \"query\",\n",
    "        \"format\": \"json\",\n",
    "        \"prop\": \"categories\",\n",
    "        \"titles\": title\n",
    "    }\n",
    "    to_ret = []\n",
    "    with requests.get(url=url, params=params) as req:\n",
    "        if req.status_code==200:\n",
    "            data = req.json()\n",
    "            pages = data[\"query\"][\"pages\"]\n",
    "            for k, v in pages.items():\n",
    "                if \"categories\" not in v.keys():\n",
    "                    continue\n",
    "                for cat in v['categories']:\n",
    "                    to_ret.append(cat[\"title\"].split(\":\")[1])\n",
    "    return to_ret"
   ]
  },
  {
   "cell_type": "code",
   "execution_count": null,
   "id": "competent-knife",
   "metadata": {},
   "outputs": [],
   "source": [
    "df_meta=pd.DataFrame()"
   ]
  },
  {
   "cell_type": "code",
   "execution_count": null,
   "id": "educational-employment",
   "metadata": {},
   "outputs": [],
   "source": [
    "for title in titles:\n",
    "    df_meta=df_meta.join(pd.Series(name=title, index=get_categories(title), data = 1), how=\"outer\")"
   ]
  },
  {
   "cell_type": "code",
   "execution_count": null,
   "id": "determined-puzzle",
   "metadata": {},
   "outputs": [],
   "source": [
    "df_meta = df_meta.fillna(0).astype(int).drop_duplicates()"
   ]
  },
  {
   "cell_type": "code",
   "execution_count": null,
   "id": "rough-prescription",
   "metadata": {},
   "outputs": [],
   "source": [
    "df_meta = df_meta.reindex(index=df_meta.index[(df_meta.sum(1)>1)].drop_duplicates())"
   ]
  },
  {
   "cell_type": "code",
   "execution_count": null,
   "id": "civilian-ownership",
   "metadata": {},
   "outputs": [],
   "source": [
    "with open(\"../hSBM_Topicmodel/corpus.txt\", \"r\") as file:\n",
    "    texts = file.readlines()\n",
    "texts = [h.split() for h in texts[1:]]"
   ]
  },
  {
   "cell_type": "markdown",
   "id": "incoming-connection",
   "metadata": {},
   "source": [
    "# Make hSBM graph"
   ]
  },
  {
   "cell_type": "code",
   "execution_count": null,
   "id": "small-trunk",
   "metadata": {},
   "outputs": [],
   "source": [
    "import sys\n",
    "sys.path.append(\"../hSBM_Topicmodel/\")"
   ]
  },
  {
   "cell_type": "code",
   "execution_count": null,
   "id": "electrical-exemption",
   "metadata": {},
   "outputs": [],
   "source": [
    "from sbmtm import sbmtm"
   ]
  },
  {
   "cell_type": "code",
   "execution_count": null,
   "id": "behind-device",
   "metadata": {},
   "outputs": [],
   "source": [
    "model = sbmtm()\n",
    "model.make_graph(texts, list(titles))"
   ]
  },
  {
   "cell_type": "code",
   "execution_count": null,
   "id": "liked-curve",
   "metadata": {},
   "outputs": [],
   "source": [
    "g = model.g"
   ]
  },
  {
   "cell_type": "code",
   "execution_count": null,
   "id": "rational-basket",
   "metadata": {},
   "outputs": [],
   "source": [
    "model.fit(n_init=5, verbose=False, B_min=6)"
   ]
  },
  {
   "cell_type": "code",
   "execution_count": null,
   "id": "handmade-survival",
   "metadata": {},
   "outputs": [],
   "source": [
    "os.system(\"mkdir -p wikipedia\")\n",
    "os.chdir(\"wikipedia\")\n",
    "model.save_data()\n",
    "model.save_graph()\n",
    "df_files.to_csv(\"files.dat\")\n",
    "os.chdir(\"..\")"
   ]
  },
  {
   "cell_type": "code",
   "execution_count": null,
   "id": "czech-venezuela",
   "metadata": {},
   "outputs": [],
   "source": [
    "gt.draw_hierarchy(model.state, layout=\"bipartite\", hedge_pen_width=8, hvertex_size=25, vertex_kind=model.g.vertex_properties[\"kind\"])"
   ]
  },
  {
   "cell_type": "markdown",
   "id": "legislative-defeat",
   "metadata": {},
   "source": [
    "# Add keywords"
   ]
  },
  {
   "cell_type": "code",
   "execution_count": null,
   "id": "civil-cheat",
   "metadata": {},
   "outputs": [],
   "source": [
    "import graph_tool.all as gt"
   ]
  },
  {
   "cell_type": "code",
   "execution_count": null,
   "id": "precious-information",
   "metadata": {},
   "outputs": [],
   "source": [
    "df_corpus = pd.DataFrame(data=gt.adjacency(g).toarray()[model.get_D():,:model.get_D()], index=model.words, columns=model.documents)"
   ]
  },
  {
   "cell_type": "code",
   "execution_count": null,
   "id": "complicated-actor",
   "metadata": {},
   "outputs": [],
   "source": [
    "df = df_corpus.append(df_meta).fillna(0).astype(int)"
   ]
  },
  {
   "cell_type": "markdown",
   "id": "arabic-findings",
   "metadata": {},
   "source": [
    "### triSBM"
   ]
  },
  {
   "cell_type": "code",
   "execution_count": null,
   "id": "standard-discussion",
   "metadata": {},
   "outputs": [],
   "source": [
    "%load autoreload\n",
    "%autoreload 2\n",
    "from trisbm import trisbm"
   ]
  },
  {
   "cell_type": "code",
   "execution_count": null,
   "id": "coastal-incidence",
   "metadata": {},
   "outputs": [],
   "source": [
    "model = trisbm()\n",
    "model.make_graph(df, lambda word_keyword: 2 if word_keyword in df_meta.index else 1)"
   ]
  },
  {
   "cell_type": "code",
   "execution_count": null,
   "id": "collectible-survey",
   "metadata": {},
   "outputs": [],
   "source": [
    "model.save_graph(\"wikipedia_keyword.xml.gz\")"
   ]
  },
  {
   "cell_type": "code",
   "execution_count": null,
   "id": "ready-oakland",
   "metadata": {},
   "outputs": [],
   "source": [
    "model.fit(n_init=5, B_min=9, verbose=False)"
   ]
  },
  {
   "cell_type": "code",
   "execution_count": null,
   "id": "comparative-winter",
   "metadata": {},
   "outputs": [],
   "source": [
    "import os"
   ]
  },
  {
   "cell_type": "code",
   "execution_count": null,
   "id": "chronic-terrorist",
   "metadata": {},
   "outputs": [],
   "source": [
    "os.system(\"mkdir -p wikipedia_key\")\n",
    "os.chdir(\"wikipedia_key\")\n",
    "model.save_data()\n",
    "model.save_graph()\n",
    "df_files.to_csv(\"files.dat\")\n",
    "os.chdir(\"..\")"
   ]
  },
  {
   "cell_type": "code",
   "execution_count": null,
   "id": "pacific-guarantee",
   "metadata": {},
   "outputs": [],
   "source": [
    "gt.draw_hierarchy(model.state, \n",
    "                  #pos=gt.sfdp_layout(model.g),\n",
    "                  hedge_pen_width=8, \n",
    "                  hvertex_size=25, \n",
    "                  vertex_kind=model.g.vertex_properties[\"kind\"]\n",
    "                 )"
   ]
  },
  {
   "cell_type": "markdown",
   "id": "drawn-cookie",
   "metadata": {},
   "source": [
    "## Benchmark"
   ]
  },
  {
   "cell_type": "code",
   "execution_count": null,
   "id": "solved-memory",
   "metadata": {},
   "outputs": [],
   "source": [
    "from topicpy.hsbmpy import get_scores, get_scores_shuffled, add_score_lines, normalise_score\n",
    "import matplotlib.pyplot as plt\n",
    "import pandas as pd\n",
    "import os"
   ]
  },
  {
   "cell_type": "code",
   "execution_count": null,
   "id": "opponent-owner",
   "metadata": {},
   "outputs": [],
   "source": [
    "labels = [\"Topic\"]\n",
    "scores = get_scores(\"wikipedia_key\", labels, algorithm=\"trisbm\", verbose=False)\n",
    "scores['trisbm'] = scores[labels[0]]\n",
    "scores[\"hsbm\"]=get_scores(\"wikipedia\", labels, algorithm=\"topsbm\", verbose=False)[labels[0]]\n",
    "scores['shuffle'] = get_scores_shuffled(\"wikipedia_key\", pd.read_csv(\"wikipedia/files.dat\", sep=\",\", index_col=0), label=labels[0], algorithm='trisbm')\n",
    "normalise_score(scores, base_algorithm=\"shuffle\", operation=lambda x,y: x/y)"
   ]
  },
  {
   "cell_type": "code",
   "execution_count": null,
   "id": "fluid-thanks",
   "metadata": {},
   "outputs": [],
   "source": [
    "fig=plt.figure(figsize=(18,15))\n",
    "ax = fig.subplots(1)\n",
    "add_score_lines(ax,scores,labels=[\"hsbm\",\"trisbm\", \"shuffle\"], V=\"norm_V\", alpha=1)\n",
    "ax.set_xscale('log')\n",
    "ax.set_ylim(1,8)\n",
    "ax.set_xlim(0,10)\n",
    "\n",
    "plt.show()\n",
    "fig.savefig(\"metric_scores.pdf\")"
   ]
  },
  {
   "cell_type": "code",
   "execution_count": null,
   "id": "adolescent-banks",
   "metadata": {},
   "outputs": [],
   "source": [
    "import plotly.graph_objects as go"
   ]
  },
  {
   "cell_type": "code",
   "execution_count": null,
   "id": "constitutional-amber",
   "metadata": {},
   "outputs": [],
   "source": [
    "fig = go.Figure()\n",
    "fig.add_traces([\n",
    "    go.Bar(y=scores[\"hsbm\"][\"norm_V\"], name=\"hSBM\"),\n",
    "    go.Bar(y=scores[\"trisbm\"][\"norm_V\"], name=\"triSBM\")\n",
    "])\n",
    "\n",
    "titlefont = {\n",
    "    \"size\": 30 \n",
    "}\n",
    "\n",
    "tickfont = {\n",
    "    \"size\":25\n",
    "}\n",
    "\n",
    "layout = {\n",
    "    \"xaxis\":{\n",
    "        \"title\": \"Resolution\",\n",
    "        \"titlefont\": titlefont,\n",
    "        \"tickfont\": tickfont\n",
    "    },\n",
    "    \"yaxis\":{\n",
    "        \"title\": \"NMI/NMI*\",\n",
    "        \"titlefont\": titlefont,\n",
    "        \"tickfont\": tickfont\n",
    "    },\n",
    "    \"legend\":{\n",
    "        \"font_size\":35\n",
    "    }\n",
    "}\n",
    "\n",
    "fig.update_layout(layout)\n",
    "#fig.write_image(\"metric_scores_bar.pdf\")"
   ]
  },
  {
   "cell_type": "code",
   "execution_count": null,
   "id": "logical-signature",
   "metadata": {},
   "outputs": [],
   "source": []
  }
 ],
 "metadata": {
  "kernelspec": {
   "display_name": "Python 3",
   "language": "python",
   "name": "python3"
  },
  "language_info": {
   "codemirror_mode": {
    "name": "ipython",
    "version": 3
   },
   "file_extension": ".py",
   "mimetype": "text/x-python",
   "name": "python",
   "nbconvert_exporter": "python",
   "pygments_lexer": "ipython3",
   "version": "3.8.6"
  }
 },
 "nbformat": 4,
 "nbformat_minor": 5
}
