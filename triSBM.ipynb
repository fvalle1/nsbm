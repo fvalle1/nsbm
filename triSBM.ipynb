{
 "cells": [
  {
   "cell_type": "code",
   "execution_count": null,
   "id": "c423c77b",
   "metadata": {},
   "outputs": [],
   "source": [
    "import graph_tool.all as gt\n",
    "import random\n",
    "import numpy as np"
   ]
  },
  {
   "cell_type": "code",
   "execution_count": null,
   "id": "5d394436",
   "metadata": {},
   "outputs": [],
   "source": [
    "g = gt.Graph(directed=False)\n",
    "name = g.vp[\"name\"] = g.new_vp(\"string\")\n",
    "kind = g.vp[\"kind\"] = g.new_vp(\"int\")\n",
    "weight = g.ep[\"count\"] = g.new_ep(\"float\")\n",
    "edge_kind = g.ep[\"edge_kind\"] = g.new_ep(\"int\")\n",
    "\n",
    "\n",
    "\n",
    "D = 100\n",
    "W = 20\n",
    "W1 = 10\n",
    "\n",
    "for i in range(D):\n",
    "    n = g.add_vertex()\n",
    "    name[n]=i\n",
    "    kind[n]=0\n",
    "        \n",
    "for i in range(W):\n",
    "    n = g.add_vertex()\n",
    "    name[n]=i+D\n",
    "    kind[n]=1\n",
    "    \n",
    "for i in range(W1):\n",
    "    n = g.add_vertex()\n",
    "    name[n]=i+D+W\n",
    "    kind[n]=2\n",
    "    \n",
    "for i in range(D):\n",
    "    for j in range(W):\n",
    "        e = g.add_edge(i,j+D, False)\n",
    "        weight[e] = int(random.randint(1,5))\n",
    "        edge_kind[e] = 1\n",
    "    for j in range(W1):\n",
    "        e = g.add_edge(i,j+D+W, False)\n",
    "        weight[e] = int(random.randint(1,5))\n",
    "        edge_kind[e] = 2"
   ]
  },
  {
   "cell_type": "code",
   "execution_count": null,
   "id": "5d581a50",
   "metadata": {},
   "outputs": [],
   "source": [
    "for _ in range(1000):\n",
    "    i = random.randint(0, D-1)\n",
    "    j = random.randint(D, D+W-1)\n",
    "    e = g.add_edge(i, j, False)\n",
    "    weight[e] = random.randint(1,100)\n",
    "    edge_kind[e] = 0"
   ]
  },
  {
   "cell_type": "code",
   "execution_count": null,
   "id": "c0baec58",
   "metadata": {},
   "outputs": [],
   "source": [
    "%load_ext autoreload\n",
    "%autoreload 2\n",
    "from trisbm import trisbm"
   ]
  },
  {
   "cell_type": "code",
   "execution_count": null,
   "id": "e2236fd5",
   "metadata": {},
   "outputs": [],
   "source": [
    "len(list(g.vertices())),len(list(g.edges()))"
   ]
  },
  {
   "cell_type": "code",
   "execution_count": null,
   "id": "50bd55ea",
   "metadata": {},
   "outputs": [],
   "source": [
    "clabel = g.vp['kind']\n",
    "state_args = {'clabel': clabel, 'pclabel': clabel}\n",
    "state_args[\"eweight\"] = g.ep.count"
   ]
  },
  {
   "cell_type": "code",
   "execution_count": null,
   "id": "e45a07dd",
   "metadata": {},
   "outputs": [],
   "source": [
    "g.save(\"graph.xml.gz\")\n",
    "gt.graph_draw(g)"
   ]
  },
  {
   "cell_type": "code",
   "execution_count": null,
   "id": "215fb516",
   "metadata": {},
   "outputs": [],
   "source": [
    "model = trisbm()\n",
    "model.load_graph(\"graph.xml.gz\")"
   ]
  },
  {
   "cell_type": "code",
   "execution_count": null,
   "id": "08d27962",
   "metadata": {
    "tags": []
   },
   "outputs": [],
   "source": [
    "model.fit()"
   ]
  },
  {
   "cell_type": "code",
   "execution_count": null,
   "id": "46600b1a",
   "metadata": {},
   "outputs": [],
   "source": [
    "model.draw()"
   ]
  },
  {
   "cell_type": "code",
   "execution_count": null,
   "id": "99dbb77e",
   "metadata": {
    "tags": []
   },
   "outputs": [],
   "source": [
    "state = model.state.copy(bs=model.state.get_bs() + [np.zeros(1)] * 4, sampling = True)\n",
    "for _ in range(100):\n",
    "    state.multiflip_mcmc_sweep(beta=np.inf)"
   ]
  },
  {
   "cell_type": "code",
   "execution_count": null,
   "id": "4b33be81",
   "metadata": {},
   "outputs": [],
   "source": [
    "model.state.entropy(), state.entropy()"
   ]
  },
  {
   "cell_type": "code",
   "execution_count": null,
   "id": "ab015b52",
   "metadata": {},
   "outputs": [],
   "source": [
    "colmap = model.g.vertex_properties[\"color\"] = model.g.new_vertex_property(\"vector<double>\")\n",
    "\n",
    "for v in model.g.vertices():\n",
    "    k = model.g.vertex_properties['kind'][v]\n",
    "    if k < 1:\n",
    "        color = np.array([112,140,195])/255.\n",
    "    elif k < 2:\n",
    "        color = np.array([131,209,80])/255.\n",
    "    elif k < 3:\n",
    "        color = np.array([210,82,58])/255.\n",
    "    else:\n",
    "        color = np.array([114,124,206])/255.\n",
    "    colmap[v] = color\n",
    "\n",
    "gt.draw_hierarchy(model.state,\n",
    "            layout=\"bipartite\",\n",
    "            subsample_edges=500,\n",
    "            edge_pen_width=model.g.ep[\"count\"],\n",
    "            #edge_color = edge_kind,\n",
    "            #edge_fill_color = edge_kind,\n",
    "            hvertex_fillcolor=\"black\",\n",
    "            vertex_color=colmap,        \n",
    "            vertex_fill_color=colmap,\n",
    "            vertex_size=20,\n",
    "            vertex_shape=\"square\",\n",
    "            output=\"network.png\"\n",
    ")"
   ]
  },
  {
   "cell_type": "markdown",
   "id": "65815b80",
   "metadata": {},
   "source": [
    "# Consensus"
   ]
  },
  {
   "cell_type": "code",
   "execution_count": null,
   "id": "30f97cb9",
   "metadata": {},
   "outputs": [],
   "source": [
    "pv = model.search_consensus(force_niter=10, niter=5)"
   ]
  },
  {
   "cell_type": "code",
   "execution_count": null,
   "id": "a122d21c",
   "metadata": {},
   "outputs": [],
   "source": [
    "# We can visualize the marginals as pie charts on the nodes:\n",
    "model.state.draw(layout=\"bipartite\", \n",
    "            subsample_edges=5000,\n",
    "            vertex_shape=\"pie\", \n",
    "            vertex_pie_fractions=pv,\n",
    "            #output=\"network_consensus.pdf\"\n",
    "            )"
   ]
  },
  {
   "cell_type": "code",
   "execution_count": null,
   "id": "777bfd17",
   "metadata": {},
   "outputs": [],
   "source": []
  }
 ],
 "metadata": {
  "kernelspec": {
   "display_name": "Python 3",
   "language": "python",
   "name": "python3"
  },
  "language_info": {
   "codemirror_mode": {
    "name": "ipython",
    "version": 3
   },
   "file_extension": ".py",
   "mimetype": "text/x-python",
   "name": "python",
   "nbconvert_exporter": "python",
   "pygments_lexer": "ipython3",
   "version": "3.8.5"
  }
 },
 "nbformat": 4,
 "nbformat_minor": 5
}
