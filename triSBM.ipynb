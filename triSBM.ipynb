{
 "cells": [
  {
   "cell_type": "code",
   "execution_count": null,
   "id": "likely-architecture",
   "metadata": {},
   "outputs": [],
   "source": [
    "import graph_tool.all as gt\n",
    "import random\n",
    "import numpy as np"
   ]
  },
  {
   "cell_type": "code",
   "execution_count": null,
   "id": "remarkable-tennessee",
   "metadata": {},
   "outputs": [],
   "source": [
    "g = gt.Graph(directed=False)\n",
    "name = g.vp[\"name\"] = g.new_vp(\"string\")\n",
    "kind = g.vp[\"kind\"] = g.new_vp(\"int\")\n",
    "weight = g.ep[\"count\"] = g.new_ep(\"float\")\n",
    "\n",
    "\n",
    "D = 100\n",
    "W = 20\n",
    "W1 = 10\n",
    "\n",
    "for i in range(D):\n",
    "    n = g.add_vertex()\n",
    "    name[n]=i\n",
    "    kind[n]=0\n",
    "        \n",
    "for i in range(W):\n",
    "    n = g.add_vertex()\n",
    "    name[n]=i+D\n",
    "    kind[n]=1\n",
    "    \n",
    "for i in range(W1):\n",
    "    n = g.add_vertex()\n",
    "    name[n]=i+D+W\n",
    "    kind[n]=2\n",
    "    \n",
    "for i in range(D):\n",
    "    for j in range(W):\n",
    "        e = g.add_edge(i,j+D, False)\n",
    "        weight[e] = int(random.randint(1,5))\n",
    "    for j in range(W1):\n",
    "        e = g.add_edge(i,j+D+W, False)\n",
    "        weight[e] = int(random.randint(1,5))"
   ]
  },
  {
   "cell_type": "code",
   "execution_count": null,
   "id": "still-wheat",
   "metadata": {},
   "outputs": [],
   "source": [
    "for _ in range(1000):\n",
    "    i = random.randint(0, D-1)\n",
    "    j = random.randint(D, D+W-1)\n",
    "    e = g.add_edge(i, j, False)\n",
    "    weight[e] = random.randint(1,100)"
   ]
  },
  {
   "cell_type": "code",
   "execution_count": null,
   "id": "broadband-effectiveness",
   "metadata": {},
   "outputs": [],
   "source": [
    "%load_ext autoreload\n",
    "%autoreload 2\n",
    "from trisbm import trisbm"
   ]
  },
  {
   "cell_type": "code",
   "execution_count": null,
   "id": "greek-greenhouse",
   "metadata": {},
   "outputs": [],
   "source": [
    "model = trisbm()\n",
    "model.load_graph(\"graph.xml.gz\")"
   ]
  },
  {
   "cell_type": "code",
   "execution_count": null,
   "id": "threaded-living",
   "metadata": {},
   "outputs": [],
   "source": [
    "g = model.g"
   ]
  },
  {
   "cell_type": "code",
   "execution_count": null,
   "id": "mobile-merchant",
   "metadata": {},
   "outputs": [],
   "source": [
    "len(list(g.vertices())),len(list(g.edges()))"
   ]
  },
  {
   "cell_type": "code",
   "execution_count": null,
   "id": "japanese-politics",
   "metadata": {},
   "outputs": [],
   "source": [
    "clabel = g.vp['kind']\n",
    "state_args = {'clabel': clabel, 'pclabel': clabel}\n",
    "state_args[\"eweight\"] = g.ep.count"
   ]
  },
  {
   "cell_type": "code",
   "execution_count": null,
   "id": "statistical-pollution",
   "metadata": {},
   "outputs": [],
   "source": [
    "gt.graph_draw(g)"
   ]
  },
  {
   "cell_type": "code",
   "execution_count": null,
   "id": "removed-graduation",
   "metadata": {},
   "outputs": [],
   "source": [
    "#model.fit()\n",
    "state = model.state.copy(bs=state.get_bs() + [np.zeros(1)] * 4, sampling = True)"
   ]
  },
  {
   "cell_type": "code",
   "execution_count": null,
   "id": "underlying-westminster",
   "metadata": {},
   "outputs": [],
   "source": [
    "model.draw()"
   ]
  },
  {
   "cell_type": "code",
   "execution_count": null,
   "id": "intellectual-vinyl",
   "metadata": {},
   "outputs": [],
   "source": [
    "model.state.entropy()"
   ]
  },
  {
   "cell_type": "code",
   "execution_count": null,
   "id": "cognitive-payday",
   "metadata": {},
   "outputs": [],
   "source": [
    "for _ in range(100):\n",
    "    state.multiflip_mcmc_sweep(beta=np.inf)"
   ]
  },
  {
   "cell_type": "code",
   "execution_count": null,
   "id": "distinct-failure",
   "metadata": {},
   "outputs": [],
   "source": [
    "state.entropy()"
   ]
  },
  {
   "cell_type": "code",
   "execution_count": null,
   "id": "spiritual-kingston",
   "metadata": {},
   "outputs": [],
   "source": [
    "state.draw(subsample_edges=5000,\n",
    "          edge_pen_width=g.ep[\"count\"])"
   ]
  },
  {
   "cell_type": "code",
   "execution_count": null,
   "id": "becoming-consultation",
   "metadata": {},
   "outputs": [],
   "source": [
    "l=1\n",
    "state_l = state.project_level(l).copy(overlap=True)\n",
    "state_l_edges = state_l.get_edge_blocks()"
   ]
  },
  {
   "cell_type": "code",
   "execution_count": null,
   "id": "peaceful-balloon",
   "metadata": {},
   "outputs": [],
   "source": [
    "B = state_l.B\n",
    "D = int(np.sum(g.vp['kind'].a == 0)) #documents\n",
    "W = int(np.sum(g.vp['kind'].a == 1)) #words\n",
    "K = int(np.sum(g.vp['kind'].a == 2)) #keywords\n",
    "\n",
    "n_dbw = np.zeros((D, B))\n",
    "n_dbw_key = np.zeros((D, B))\n",
    "\n",
    "for e in g.edges():\n",
    "    z1, z2 = state_l_edges[e]\n",
    "    v1 = e.source()\n",
    "    v2 = e.target()\n",
    "    if v2 < D + W:\n",
    "        n_dbw[int(v1), z2] += 1\n",
    "    else:\n",
    "        n_dbw_key[int(v1), z2] += 1"
   ]
  },
  {
   "cell_type": "code",
   "execution_count": null,
   "id": "approved-lesbian",
   "metadata": {},
   "outputs": [],
   "source": [
    "#p_w = np.sum(n_wb, axis=1) / float(np.sum(n_wb))\n",
    "\n",
    "#ind_d = np.where(np.sum(n_db, axis=0) > 0)[0]\n",
    "#Bd = len(ind_d)\n",
    "#n_db = n_db[:, ind_d]\n",
    "\n",
    "#ind_w = np.where(np.sum(n_wb, axis=0) > 0)[0]\n",
    "#Bw = len(ind_w)\n",
    "#n_wb = n_wb[:, ind_w]\n",
    "\n",
    "ind_w2 = np.where(np.sum(n_dbw, axis=0) > 0)[0]\n",
    "n_dbw = n_dbw[:, ind_w2]\n",
    "\n",
    "## Mixture of word-groups into documetns P(t_w | d)\n",
    "p_tw_d = (n_dbw / np.sum(n_dbw, axis=1)[:, np.newaxis]).T\n",
    "\n",
    "ind_w2_keyword = np.where(np.sum(n_dbw_key, axis=0) > 0)[0]\n",
    "n_dbw_key = n_dbw_key[:, ind_w2_keyword]\n",
    "\n",
    "## Mixture of word-groups into documetns P(t_w | d)\n",
    "p_tw_d = (n_dbw / np.sum(n_dbw, axis=1)[:, np.newaxis]).T\n",
    "\n",
    "## Mixture of word-groups into documetns P(t_w | d)\n",
    "p_tk_d = (n_dbw_key / np.sum(n_dbw_key, axis=1)[:, np.newaxis]).T\n",
    "\n",
    "result = {}\n",
    "result['p_tw_d'] = p_tw_d\n",
    "result['p_tk_d'] = p_tk_d"
   ]
  },
  {
   "cell_type": "code",
   "execution_count": null,
   "id": "scenic-ecology",
   "metadata": {},
   "outputs": [],
   "source": [
    "result['p_tw_d'].shape"
   ]
  },
  {
   "cell_type": "code",
   "execution_count": null,
   "id": "technical-prisoner",
   "metadata": {},
   "outputs": [],
   "source": [
    "result['p_tk_d'].shape"
   ]
  },
  {
   "cell_type": "code",
   "execution_count": null,
   "id": "small-substance",
   "metadata": {},
   "outputs": [],
   "source": []
  }
 ],
 "metadata": {
  "kernelspec": {
   "display_name": "Python 3",
   "language": "python",
   "name": "python3"
  },
  "language_info": {
   "codemirror_mode": {
    "name": "ipython",
    "version": 3
   },
   "file_extension": ".py",
   "mimetype": "text/x-python",
   "name": "python",
   "nbconvert_exporter": "python",
   "pygments_lexer": "ipython3",
   "version": "3.8.6"
  }
 },
 "nbformat": 4,
 "nbformat_minor": 5
}
